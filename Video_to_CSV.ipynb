{
 "cells": [
  {
   "cell_type": "code",
   "execution_count": 2,
   "id": "08be1782-5248-415f-83ac-cf0e5ea1f02d",
   "metadata": {
    "tags": []
   },
   "outputs": [],
   "source": [
    "import cv2\n",
    "import numpy as np\n",
    "import os\n",
    "from PIL import Image\n",
    "from collections import defaultdict\n",
    "import spicy as sp\n",
    "import pandas as pd\n",
    "import numpy as np\n",
    "import matplotlib.pyplot as plot\n",
    "from scipy.optimize import curve_fit\n",
    "from collections import OrderedDict"
   ]
  },
  {
   "cell_type": "code",
   "execution_count": 94,
   "id": "f419d5b3-f4a5-4c17-b9b2-8aaa5b63623f",
   "metadata": {
    "tags": []
   },
   "outputs": [],
   "source": [
    "directory2 = '/Users/hannadixon/Desktop/Research/OECT/20240814 RRe 0.54V Grayscale cycle 4'\n",
    "files = []\n",
    "coordinate = []\n",
    "pixels = []\n",
    "frame = []\n",
    "prefix = \"frame\"\n",
    "suffix = \".jpg\"\n",
    "#name = prefix + str(i) + suffix\n",
    "n = len(os.listdir(directory2))\n",
    "\n",
    "i = 0\n",
    "for i in range(n):\n",
    "    file = prefix + str(i) + suffix\n",
    "    f = os.path.join(directory2, file)\n",
    "    im = Image.open(f)\n",
    "    for j in range(im.size[0]):\n",
    "        pixel = im.getpixel([j, 0])\n",
    "        pixels.append(pixel)\n",
    "        coordinate.append(j+1)\n",
    "        frame.append(i+1)\n",
    "files.append(coordinate)\n",
    "files.append(pixels)\n",
    "files.append(frame)"
   ]
  },
  {
   "cell_type": "code",
   "execution_count": 96,
   "id": "c9d4a65b-3cb8-4e67-a9b3-3ca95d35664b",
   "metadata": {
    "tags": []
   },
   "outputs": [],
   "source": [
    "files_df = pd.DataFrame(files).T\n",
    "files_df.columns = ['X Coordinates', 'Brightness', 'Frame']"
   ]
  },
  {
   "cell_type": "code",
   "execution_count": 98,
   "id": "f8d51d6c-0784-4250-ada2-2fc5ede277bd",
   "metadata": {
    "tags": []
   },
   "outputs": [],
   "source": [
    "files_df.to_csv('/Users/hannadixon/Desktop/Research/OECT/RRe 0.54V cycle 4.csv', index = False)"
   ]
  },
  {
   "cell_type": "code",
   "execution_count": null,
   "id": "dcfcc73d-276e-4330-a013-01a69e6f57a4",
   "metadata": {},
   "outputs": [],
   "source": []
  }
 ],
 "metadata": {
  "kernelspec": {
   "display_name": "Python 3 (ipykernel)",
   "language": "python",
   "name": "python3"
  },
  "language_info": {
   "codemirror_mode": {
    "name": "ipython",
    "version": 3
   },
   "file_extension": ".py",
   "mimetype": "text/x-python",
   "name": "python",
   "nbconvert_exporter": "python",
   "pygments_lexer": "ipython3",
   "version": "3.11.7"
  }
 },
 "nbformat": 4,
 "nbformat_minor": 5
}
