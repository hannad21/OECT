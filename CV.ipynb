{
 "cells": [
  {
   "cell_type": "code",
   "execution_count": 2,
   "id": "6074d9ad-86cc-46ab-8b1d-d6516ec4be41",
   "metadata": {
    "tags": []
   },
   "outputs": [],
   "source": [
    "import os\n",
    "import pandas as pd\n",
    "import numpy as np\n",
    "import matplotlib.pyplot as plot\n",
    "from scipy.optimize import curve_fit\n",
    "from collections import OrderedDict\n",
    "import spicy as sp\n",
    "import string as str"
   ]
  },
  {
   "cell_type": "code",
   "execution_count": 8,
   "id": "b9b583f5-2d74-4d7e-b30b-059988b60eff",
   "metadata": {
    "tags": []
   },
   "outputs": [],
   "source": [
    "input_dir = '/Users/hannadixon/Desktop/OneDrive - UW/Hanna Dixon/20240718 CV'\n",
    "filename = \"20240718 RRe 100mMol KTFSI CV.txt\"\n",
    "file_path = os.path.join(input_dir, filename)"
   ]
  },
  {
   "cell_type": "code",
   "execution_count": 10,
   "id": "12497805-94a4-4861-a397-3712a68fa4cc",
   "metadata": {
    "tags": []
   },
   "outputs": [],
   "source": [
    "data = pd.read_csv(file_path, delimiter=';')"
   ]
  },
  {
   "cell_type": "code",
   "execution_count": 11,
   "id": "9504a298-3b58-4aba-b28d-40f66d7b707c",
   "metadata": {
    "tags": []
   },
   "outputs": [
    {
     "name": "stdout",
     "output_type": "stream",
     "text": [
      "      Potential applied (V)    Time (s)  WE(1).Current (A)  Scan  Index  \\\n",
      "0                  0.002441    7.132795          -0.000002     1      1   \n",
      "1                  0.004883    7.181623          -0.000002     1      2   \n",
      "2                  0.007324    7.230451          -0.000001     1      3   \n",
      "3                  0.009766    7.279279          -0.000001     1      4   \n",
      "4                  0.012207    7.328107          -0.000001     1      5   \n",
      "...                     ...         ...                ...   ...    ...   \n",
      "4423              -0.009766  223.099038           0.000005     3   4424   \n",
      "4424              -0.007324  223.147866           0.000005     3   4425   \n",
      "4425              -0.004883  223.196694           0.000005     3   4426   \n",
      "4426              -0.002441  223.245522           0.000005     3   4427   \n",
      "4427               0.000000  223.294350           0.000005     3   4428   \n",
      "\n",
      "            Q+        Q- Current range  \n",
      "0     0.003963 -0.003413         10 mA  \n",
      "1     0.003963 -0.003413         10 mA  \n",
      "2     0.003963 -0.003413         10 mA  \n",
      "3     0.003963 -0.003413         10 mA  \n",
      "4     0.003963 -0.003413         10 mA  \n",
      "...        ...       ...           ...  \n",
      "4423  0.003518 -0.003523         10 mA  \n",
      "4424  0.003518 -0.003523         10 mA  \n",
      "4425  0.003518 -0.003523         10 mA  \n",
      "4426  0.003518 -0.003523         10 mA  \n",
      "4427  0.003518 -0.003523         10 mA  \n",
      "\n",
      "[4428 rows x 8 columns]\n"
     ]
    }
   ],
   "source": [
    "print(data)"
   ]
  },
  {
   "cell_type": "code",
   "execution_count": 14,
   "id": "d75375bf-baee-429c-b43f-5950308406c8",
   "metadata": {
    "tags": []
   },
   "outputs": [],
   "source": [
    "Scan = data[\"Scan\"]"
   ]
  },
  {
   "cell_type": "code",
   "execution_count": 16,
   "id": "245b53aa-eeb3-4890-bb37-f8568b750ee1",
   "metadata": {
    "tags": []
   },
   "outputs": [
    {
     "data": {
      "text/plain": [
       "'second = np.where(Scan == 2) [0]'"
      ]
     },
     "execution_count": 16,
     "metadata": {},
     "output_type": "execute_result"
    }
   ],
   "source": [
    "'''second = np.where(Scan == 2) [0]'''"
   ]
  },
  {
   "cell_type": "code",
   "execution_count": 18,
   "id": "b5d1d388-be6e-4d36-8f20-3b4774f241cf",
   "metadata": {
    "tags": []
   },
   "outputs": [
    {
     "data": {
      "text/plain": [
       "'data = data[second[0]:second[-1]]'"
      ]
     },
     "execution_count": 18,
     "metadata": {},
     "output_type": "execute_result"
    }
   ],
   "source": [
    "'''data = data[second[0]:second[-1]]'''"
   ]
  },
  {
   "cell_type": "code",
   "execution_count": 20,
   "id": "08330a66-ad77-4e78-96d0-3ee53ccf2757",
   "metadata": {
    "tags": []
   },
   "outputs": [],
   "source": [
    "Potential = data[\"Potential applied (V)\"]\n",
    "Time = data[\"Time (s)\"]\n",
    "Current = data[\"WE(1).Current (A)\"]"
   ]
  },
  {
   "cell_type": "code",
   "execution_count": 22,
   "id": "91c00519-8aad-4845-b5a6-9b726476ffa8",
   "metadata": {
    "tags": []
   },
   "outputs": [
    {
     "data": {
      "text/plain": [
       "0       0.002441\n",
       "1       0.004883\n",
       "2       0.007324\n",
       "3       0.009766\n",
       "4       0.012207\n",
       "          ...   \n",
       "4423   -0.009766\n",
       "4424   -0.007324\n",
       "4425   -0.004883\n",
       "4426   -0.002441\n",
       "4427    0.000000\n",
       "Name: Potential applied (V), Length: 4428, dtype: float64"
      ]
     },
     "execution_count": 22,
     "metadata": {},
     "output_type": "execute_result"
    }
   ],
   "source": [
    "Potential"
   ]
  },
  {
   "cell_type": "code",
   "execution_count": 24,
   "id": "0f437e52-b6cb-47fe-8f62-bc8b866c5796",
   "metadata": {
    "tags": []
   },
   "outputs": [
    {
     "data": {
      "text/plain": [
       "'index_set = np.where((Potential > 0.0) & (Potential < 0.35)) [0]\\nprint(index_set[-1])\\nindex_setfixed = index_set + second[0]\\nprint(Potential[index_setfixed])'"
      ]
     },
     "execution_count": 24,
     "metadata": {},
     "output_type": "execute_result"
    }
   ],
   "source": [
    "'''index_set = np.where((Potential > 0.0) & (Potential < 0.35)) [0]\n",
    "print(index_set[-1])\n",
    "index_setfixed = index_set + second[0]\n",
    "print(Potential[index_setfixed])'''"
   ]
  },
  {
   "cell_type": "code",
   "execution_count": 26,
   "id": "6840b484-099d-4d32-b284-f658ee0e51fc",
   "metadata": {
    "tags": []
   },
   "outputs": [
    {
     "data": {
      "text/plain": [
       "'index_set2 = np.where((Potential > 0.0) & (Potential < 0.6)) [0]\\nprint(index_set2[-1])\\nindex_setfixed2 = index_set2 + second[0]\\nprint(Potential[index_setfixed2])'"
      ]
     },
     "execution_count": 26,
     "metadata": {},
     "output_type": "execute_result"
    }
   ],
   "source": [
    "'''index_set2 = np.where((Potential > 0.0) & (Potential < 0.6)) [0]\n",
    "print(index_set2[-1])\n",
    "index_setfixed2 = index_set2 + second[0]\n",
    "print(Potential[index_setfixed2])'''"
   ]
  },
  {
   "cell_type": "code",
   "execution_count": 28,
   "id": "0958e30c-2bd7-4953-af63-b96a4c07e7b4",
   "metadata": {
    "tags": []
   },
   "outputs": [
    {
     "data": {
      "text/plain": [
       "'value, threshold = max((value, index) for (index, value) in enumerate(Current[index_setfixed]))'"
      ]
     },
     "execution_count": 28,
     "metadata": {},
     "output_type": "execute_result"
    }
   ],
   "source": [
    "'''value, threshold = max((value, index) for (index, value) in enumerate(Current[index_setfixed]))'''"
   ]
  },
  {
   "cell_type": "code",
   "execution_count": 30,
   "id": "c1f00e06-ad3c-4ab7-b389-5f7cc50096f8",
   "metadata": {
    "tags": []
   },
   "outputs": [
    {
     "data": {
      "text/plain": [
       "'value2, threshold2 = min((value, index) for (index, value) in enumerate(Current[index_setfixed2]))'"
      ]
     },
     "execution_count": 30,
     "metadata": {},
     "output_type": "execute_result"
    }
   ],
   "source": [
    "'''value2, threshold2 = min((value, index) for (index, value) in enumerate(Current[index_setfixed2]))'''"
   ]
  },
  {
   "cell_type": "code",
   "execution_count": 32,
   "id": "567911bd-32d5-42c0-b196-bf2990a46807",
   "metadata": {
    "tags": []
   },
   "outputs": [
    {
     "data": {
      "text/plain": [
       "'Potential[index_setfixed[threshold]]'"
      ]
     },
     "execution_count": 32,
     "metadata": {},
     "output_type": "execute_result"
    }
   ],
   "source": [
    "'''Potential[index_setfixed[threshold]]'''"
   ]
  },
  {
   "cell_type": "code",
   "execution_count": 34,
   "id": "554c6d41-233f-4915-9282-1b0824424ced",
   "metadata": {
    "tags": []
   },
   "outputs": [
    {
     "data": {
      "text/plain": [
       "'Potential[index_setfixed2[threshold2]]'"
      ]
     },
     "execution_count": 34,
     "metadata": {},
     "output_type": "execute_result"
    }
   ],
   "source": [
    "'''Potential[index_setfixed2[threshold2]]'''"
   ]
  },
  {
   "cell_type": "code",
   "execution_count": 36,
   "id": "d58f21cd-42c8-4548-b113-c684ddef80ac",
   "metadata": {
    "tags": []
   },
   "outputs": [
    {
     "data": {
      "text/plain": [
       "'threshold_potential = ((Potential[index_setfixed2[threshold2]] - Potential[index_setfixed[threshold]]) / 2) + Potential[index_setfixed[threshold]]\\nprint(threshold_potential)\\nthreshold_potentialmin = threshold_potential - 0.001225\\nthreshold_potentialmax = threshold_potential + 0.001225\\nprint(threshold_potentialrange)\\nthreshold_index = np.where((Potential[index_setfixed2] <= threshold_potentialmax) & (Potential[index_setfixed2] >= threshold_potentialmin)) [0]\\nprint(threshold_index)\\nprint(Potential[index_setfixed2[threshold_index]])\\nthreshold_indexfixed = threshold_index[0]\\nprint(threshold_indexfixed)\\nprint(Potential[index_setfixed[threshold_indexfixed]])'"
      ]
     },
     "execution_count": 36,
     "metadata": {},
     "output_type": "execute_result"
    }
   ],
   "source": [
    "'''threshold_potential = ((Potential[index_setfixed2[threshold2]] - Potential[index_setfixed[threshold]]) / 2) + Potential[index_setfixed[threshold]]\n",
    "print(threshold_potential)\n",
    "threshold_potentialmin = threshold_potential - 0.001225\n",
    "threshold_potentialmax = threshold_potential + 0.001225\n",
    "print(threshold_potentialrange)\n",
    "threshold_index = np.where((Potential[index_setfixed2] <= threshold_potentialmax) & (Potential[index_setfixed2] >= threshold_potentialmin)) [0]\n",
    "print(threshold_index)\n",
    "print(Potential[index_setfixed2[threshold_index]])\n",
    "threshold_indexfixed = threshold_index[0]\n",
    "print(threshold_indexfixed)\n",
    "print(Potential[index_setfixed[threshold_indexfixed]])'''"
   ]
  },
  {
   "cell_type": "code",
   "execution_count": 40,
   "id": "f5e84f45-7bb1-4682-825f-bd41136f3f45",
   "metadata": {
    "tags": []
   },
   "outputs": [
    {
     "data": {
      "text/plain": [
       "\"axis1.text(-0.8, 0.00014, 'Oxidation potential = 0.259')\\naxis1.text(-0.8, 0.00011, 'Reduction potential = 0.435')\\naxis1.text(-0.8, 0.00008, 'Threshold potential = 0.347')\\naxis1.legend()\""
      ]
     },
     "execution_count": 40,
     "metadata": {},
     "output_type": "execute_result"
    },
    {
     "data": {
      "image/png": "[encoded data removed]",
      "text/plain": [
       "<Figure size 640x480 with 1 Axes>"
      ]
     },
     "metadata": {},
     "output_type": "display_data"
    }
   ],
   "source": [
    "figure1, axis1 = plot.subplots()\n",
    "\n",
    "axis1.plot(Potential, Current, linestyle = 'solid',\n",
    "           marker = 'None', color = 'black')\n",
    "'''axis1.plot(Potential[index_setfixed[threshold]], value, linestyle = 'None',\n",
    "           marker = 'o', color = 'blue', label = 'Oxidation potential')\n",
    "axis1.plot(Potential[index_setfixed2[threshold2]], value2, linestyle = 'None',\n",
    "           marker = 'o', color = 'purple', label = 'Reduction potential')\n",
    "axis1.plot(Potential[index_setfixed[threshold_indexfixed]], Current[index_setfixed[threshold_indexfixed]], linestyle = 'None',\n",
    "           marker = 'o', color = 'green', label = 'Threshold potential')'''\n",
    "\n",
    "axis1.set_xlabel('Potential [V]', fontsize = 12)\n",
    "axis1.set_ylabel('Current [A]', fontsize = 12)\n",
    "axis1.set_title('CV data for RRe P3HT with 100mM KTFSI, scan rate = 0.05 V/s', fontsize = 12)\n",
    "'''axis1.text(-0.8, 0.00014, 'Oxidation potential = 0.259')\n",
    "axis1.text(-0.8, 0.00011, 'Reduction potential = 0.435')\n",
    "axis1.text(-0.8, 0.00008, 'Threshold potential = 0.347')\n",
    "axis1.legend()'''"
   ]
  },
  {
   "cell_type": "code",
   "execution_count": null,
   "id": "385c3ada-0463-444e-87bb-8c754c92b84c",
   "metadata": {},
   "outputs": [],
   "source": []
  },
  {
   "cell_type": "code",
   "execution_count": null,
   "id": "e066904a-f86b-41aa-9c63-469785169976",
   "metadata": {},
   "outputs": [],
   "source": []
  }
 ],
 "metadata": {
  "kernelspec": {
   "display_name": "Python 3 (ipykernel)",
   "language": "python",
   "name": "python3"
  },
  "language_info": {
   "codemirror_mode": {
    "name": "ipython",
    "version": 3
   },
   "file_extension": ".py",
   "mimetype": "text/x-python",
   "name": "python",
   "nbconvert_exporter": "python",
   "pygments_lexer": "ipython3",
   "version": "3.11.7"
  }
 },
 "nbformat": 4,
 "nbformat_minor": 5
}
