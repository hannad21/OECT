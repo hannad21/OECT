{
 "cells": [
  {
   "cell_type": "code",
   "execution_count": 2,
   "id": "65d2bd4b-9c46-44fe-a4e3-329b371c3e7c",
   "metadata": {
    "tags": []
   },
   "outputs": [],
   "source": [
    "import cv2\n",
    "import numpy as np\n",
    "import os\n",
    "from PIL import Image\n",
    "from collections import defaultdict\n",
    "import spicy as sp\n",
    "import pandas as pd\n",
    "import numpy as np\n",
    "import matplotlib.pyplot as plot\n",
    "from scipy.optimize import curve_fit\n",
    "from collections import OrderedDict"
   ]
  },
  {
   "cell_type": "code",
   "execution_count": 72,
   "id": "99f5bab1-4662-4b9d-9bda-edfe3eeab9ae",
   "metadata": {
    "tags": []
   },
   "outputs": [],
   "source": [
    "directory = '/Users/hannadixon/Desktop/Research/OECT'\n",
    "filename = \"Untitled (15).mp4\"\n",
    "filepath = os.path.join(directory, filename)\n",
    "\n",
    "if os.path.exists(filepath):\n",
    "    video = cv2.VideoCapture(filepath)\n",
    "else:\n",
    "    print(False)"
   ]
  },
  {
   "cell_type": "code",
   "execution_count": 91,
   "id": "985e8cbd-efec-47ac-a75b-24d370c6fa8a",
   "metadata": {
    "tags": []
   },
   "outputs": [
    {
     "name": "stdout",
     "output_type": "stream",
     "text": [
      "30.0\n",
      "0.03333333333333333\n",
      "1.2333333333333334\n"
     ]
    }
   ],
   "source": [
    "fps = (video.get(cv2.CAP_PROP_FPS))\n",
    "print(fps)\n",
    "spf = 1 / fps\n",
    "print(spf)\n",
    "print(spf * 37)"
   ]
  },
  {
   "cell_type": "code",
   "execution_count": 76,
   "id": "f9091334-de21-4d99-ad0b-d2f4ad62d31f",
   "metadata": {
    "tags": []
   },
   "outputs": [],
   "source": [
    "frame_count = 0\n",
    "\n",
    "output_dir = 'Untitled (15) frames'\n",
    "\n",
    "if not os.path.exists(output_dir):\n",
    "    os.makedirs(output_dir)\n",
    "\n",
    "while (video.isOpened()):\n",
    "    ret, frame = video.read()\n",
    "        \n",
    "    if ret:\n",
    "\n",
    "        cv2.imwrite(os.path.join(output_dir, f'frame{frame_count}.jpg'), frame)\n",
    "        \n",
    "        frame_count += 1\n",
    "    else:\n",
    "        break"
   ]
  },
  {
   "cell_type": "code",
   "execution_count": 144,
   "id": "2e402e32-e307-4c8b-a7b1-706da85c3330",
   "metadata": {
    "tags": []
   },
   "outputs": [
    {
     "name": "stdout",
     "output_type": "stream",
     "text": [
      "full image dimensions: 802 x 1668\n"
     ]
    }
   ],
   "source": [
    "input_dir = '/Users/hannadixon/Desktop/Research/OECT/GS for python frames'\n",
    "output_dir = 'GS for python GS'\n",
    "\n",
    "if not os.path.exists(output_dir):\n",
    "    os.makedirs(output_dir)\n",
    "    \n",
    "filename = \"frame0.jpg\"\n",
    "filepath = os.path.join(input_dir, filename)\n",
    "im = Image.open(filepath)\n",
    "width_all = im.width\n",
    "height_all = im.height\n",
    "\n",
    "print('full image dimensions:', width_all, 'x', height_all)\n",
    "\n",
    "for filename in os.listdir(input_dir):\n",
    "    if filename.endswith('.jpg'):\n",
    "        frame_path = os.path.join(input_dir, filename)\n",
    "        \n",
    "        frame = cv2.imread(frame_path)\n",
    "        cropped_frame = frame[900:901, :]\n",
    "        \n",
    "        grayscale = cv2.cvtColor(cropped_frame, cv2.COLOR_BGR2GRAY)\n",
    "\n",
    "        output_path = os.path.join(output_dir, filename)\n",
    "        cv2.imwrite(output_path, grayscale)"
   ]
  },
  {
   "cell_type": "code",
   "execution_count": null,
   "id": "d260d34d-3de4-4a43-ab1a-c9656302fb17",
   "metadata": {},
   "outputs": [],
   "source": []
  }
 ],
 "metadata": {
  "kernelspec": {
   "display_name": "Python 3 (ipykernel)",
   "language": "python",
   "name": "python3"
  },
  "language_info": {
   "codemirror_mode": {
    "name": "ipython",
    "version": 3
   },
   "file_extension": ".py",
   "mimetype": "text/x-python",
   "name": "python",
   "nbconvert_exporter": "python",
   "pygments_lexer": "ipython3",
   "version": "3.11.7"
  }
 },
 "nbformat": 4,
 "nbformat_minor": 5
}
